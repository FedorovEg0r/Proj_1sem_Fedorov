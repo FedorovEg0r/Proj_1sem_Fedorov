{
  "nbformat": 4,
  "nbformat_minor": 0,
  "metadata": {
    "colab": {
      "name": "Untitled0.ipynb",
      "provenance": [],
      "authorship_tag": "ABX9TyMOFhzj41AFXXobtAYMAuDH",
      "include_colab_link": true
    },
    "kernelspec": {
      "name": "python3",
      "display_name": "Python 3"
    },
    "language_info": {
      "name": "python"
    }
  },
  "cells": [
    {
      "cell_type": "markdown",
      "metadata": {
        "id": "view-in-github",
        "colab_type": "text"
      },
      "source": [
        "<a href=\"https://colab.research.google.com/github/FedorovEg0r/Proj_1sem_Fedorov/blob/master/PZ_11.ipynb\" target=\"_parent\"><img src=\"https://colab.research.google.com/assets/colab-badge.svg\" alt=\"Open In Colab\"/></a>"
      ]
    },
    {
      "cell_type": "code",
      "source": [
        "# даны числа х, у. Проверить истинность высказывания:\n",
        "# «Точка с координатами (х, у) лежит во второй координатной четверти»\n",
        "\n",
        "print(\"Введите координаты точки x и y\")\n",
        "x, y = input(\"x = \"), input(\"y = \")\n",
        "\n",
        "while type(x) != float:  # обработка исключений\n",
        "    try:\n",
        "        x = float(x)\n",
        "    except ValueError:\n",
        "        print(\"Введите число! \")\n",
        "        x = input(\"x = \")\n",
        "\n",
        "while type(y) != float:  # обработка исключений\n",
        "    try:\n",
        "        y = float(y)\n",
        "    except ValueError:\n",
        "        print(\"Введите число! \")\n",
        "        y = input(\"y = \")\n",
        "\n",
        "if x < 0 and y > 0:  # проверка истинности утверждения\n",
        "    print('Утверждение верно')\n",
        "else:\n",
        "    print('Утверждение неверно')"
      ],
      "metadata": {
        "colab": {
          "base_uri": "https://localhost:8080/"
        },
        "id": "doF999WGaVfk",
        "outputId": "e85f4631-854f-4dd2-cbf3-449f5a7373fd"
      },
      "execution_count": 4,
      "outputs": [
        {
          "output_type": "stream",
          "name": "stdout",
          "text": [
            "Введите координаты точки x и y\n",
            "x = 1\n",
            "y = 2\n",
            "Утверждение неверно\n"
          ]
        }
      ]
    },
    {
      "cell_type": "code",
      "source": [
        "# даны два целых числа A и B (A < B)\n",
        "# вывести в порядке возрастания все целые числа, расположенные между A и B\n",
        "# (включая сами числа A и B), а также количество N этих чисел\n",
        "\n",
        "print('Введите числа a, b')\n",
        "a, b = input('a = '), input('b = ')\n",
        "\n",
        "while type(a) != int:  # обработка исключений\n",
        "    try:\n",
        "        a = int(a)\n",
        "    except ValueError:\n",
        "        print(\"Введите целое число! \")\n",
        "        a = input(\"a = \")\n",
        "\n",
        "while type(b) != int:  # обработка исключений\n",
        "    try:\n",
        "        b = int(b)\n",
        "    except ValueError:\n",
        "        print(\"Введите целое число! \")\n",
        "        b = input(\"b = \")\n",
        "\n",
        "while a >= b:  # обработка исключений\n",
        "    print('Введите такие числа, чтобы a < b!')\n",
        "    a, b = int(input('a = ')), int(input('b = '))\n",
        "\n",
        "n = 0\n",
        "\n",
        "while a != b + 1:  # вывод чисел и их подсчет\n",
        "    print(a)\n",
        "    a += 1\n",
        "    n += 1\n",
        "\n",
        "print('\\nКоличество чисел =', n)"
      ],
      "metadata": {
        "colab": {
          "base_uri": "https://localhost:8080/"
        },
        "id": "Fp-cXL7oadPm",
        "outputId": "02fe7503-a8fe-4bb9-e8eb-6e75200e8177"
      },
      "execution_count": 5,
      "outputs": [
        {
          "output_type": "stream",
          "name": "stdout",
          "text": [
            "Введите числа a, b\n",
            "a = 2\n",
            "b = 9\n",
            "2\n",
            "3\n",
            "4\n",
            "5\n",
            "6\n",
            "7\n",
            "8\n",
            "9\n",
            "\n",
            "Количество чисел = 8\n"
          ]
        }
      ]
    },
    {
      "cell_type": "code",
      "source": [
        "# найти сумму чисел ряда 1,2,3,4,... от числа n до числа m. Суммирование\n",
        "# оформить функцией с параметрами. Значения n и m программа должна запрашивать\n",
        "\n",
        "\n",
        "def Summ(n, m):  # описание функции\n",
        "    s = 0\n",
        "    while n != m + 1:\n",
        "        s += n\n",
        "        n += 1\n",
        "    return s\n",
        "\n",
        "n = int(input('Введите первое число: '))  # ввод чисел\n",
        "m = int(input('Введите второе число: '))\n",
        "\n",
        "print('Сумма чисел ряда от n до m =', Summ(n, m))  # вывод результата"
      ],
      "metadata": {
        "colab": {
          "base_uri": "https://localhost:8080/"
        },
        "id": "z3VAHSKmaiyd",
        "outputId": "33e846a5-f8d8-481b-a4ea-3b3c4e83a680"
      },
      "execution_count": 6,
      "outputs": [
        {
          "output_type": "stream",
          "name": "stdout",
          "text": [
            "Введите первое число: 3\n",
            "Введите второе число: 9\n",
            "Сумма чисел ряда от n до m = 42\n"
          ]
        }
      ]
    }
  ]
}